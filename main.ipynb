{
 "cells": [
  {
   "cell_type": "markdown",
   "metadata": {
    "id": "JL3ZPJPgC4wC"
   },
   "source": [
    "# English Text Generation using LSTM (Shakespeare and War & Peace)"
   ]
  },
  {
   "cell_type": "code",
   "execution_count": null,
   "metadata": {
    "id": "SpueB6zADYgE"
   },
   "outputs": [],
   "source": [
    "import tensorflow as tf\n",
    "import matplotlib.pyplot as plt\n",
    "import numpy as np\n",
    "import platform\n",
    "import time\n",
    "import pathlib\n",
    "import os\n",
    "import numpy as np\n",
    "import tensorflow as tf\n",
    "from tensorflow.keras.layers import LSTM, Dense, Embedding\n",
    "from tensorflow.keras.models import Sequential\n",
    "from tensorflow.keras.preprocessing.text import Tokenizer\n",
    "from tensorflow.keras.utils import to_categorical\n",
    "from tensorflow import keras"
   ]
  },
  {
   "cell_type": "markdown",
   "metadata": {
    "id": "ciI_JnnNEGCw"
   },
   "source": [
    "### Downloading the datasets from the given link"
   ]
  },
  {
   "cell_type": "code",
   "execution_count": null,
   "metadata": {
    "colab": {
     "base_uri": "https://localhost:8080/"
    },
    "id": "Vk2HldshEOph",
    "outputId": "36dee5f1-e5e2-4121-fbca-c8503d19f93d"
   },
   "outputs": [
    {
     "name": "stdout",
     "output_type": "stream",
     "text": [
      "Downloading data from https://cs.stanford.edu/people/karpathy/char-rnn/shakespeare_input.txt\n",
      "4573338/4573338 [==============================] - 1s 0us/step\n"
     ]
    }
   ],
   "source": [
    "#load the text file\n",
    "file_path = keras.utils.get_file('shakespeare.txt', 'https://cs.stanford.edu/people/karpathy/char-rnn/shakespeare_input.txt')\n",
    "\n",
    "with open(file_path, 'r', encoding='utf-8') as f:\n",
    "    text = f.read()"
   ]
  },
  {
   "cell_type": "code",
   "execution_count": null,
   "metadata": {
    "id": "OYN5_3QFxYjA"
   },
   "outputs": [],
   "source": [
    "#load the text file 2\n",
    "file_path2 = keras.utils.get_file('warpeace.txt', 'https://cs.stanford.edu/people/karpathy/char-rnn/warpeace_input.txt')\n",
    "\n",
    "with open(file_path2, 'r', encoding='utf-8') as f:\n",
    "    text2 = f.read()"
   ]
  },
  {
   "cell_type": "markdown",
   "metadata": {
    "id": "eKTy6YS5Gx-g"
   },
   "source": [
    "### Data Exploration"
   ]
  },
  {
   "cell_type": "code",
   "execution_count": null,
   "metadata": {
    "colab": {
     "base_uri": "https://localhost:8080/"
    },
    "id": "CzfX7hK8G0bn",
    "outputId": "5982581e-a177-4cc9-c9d3-e68199b49ac7"
   },
   "outputs": [
    {
     "data": {
      "text/plain": [
       "4573338"
      ]
     },
     "execution_count": 3,
     "metadata": {},
     "output_type": "execute_result"
    }
   ],
   "source": [
    "#total number of characters in the text file\n",
    "len(text)"
   ]
  },
  {
   "cell_type": "code",
   "execution_count": null,
   "metadata": {
    "colab": {
     "base_uri": "https://localhost:8080/"
    },
    "id": "5xfiP4JM2XrV",
    "outputId": "769e919f-a11a-4d57-b931-1bd9ba700cb9"
   },
   "outputs": [
    {
     "data": {
      "text/plain": [
       "3196213"
      ]
     },
     "execution_count": 60,
     "metadata": {},
     "output_type": "execute_result"
    }
   ],
   "source": [
    "#total number of characters in the text file 2\n",
    "len(text2)"
   ]
  },
  {
   "cell_type": "code",
   "execution_count": null,
   "metadata": {
    "colab": {
     "base_uri": "https://localhost:8080/"
    },
    "id": "yEFwXhc_c9yX",
    "outputId": "ea330ed5-29db-4c8d-c0a6-a3e02827f444"
   },
   "outputs": [
    {
     "name": "stdout",
     "output_type": "stream",
     "text": [
      "['\\n', ' ', '!', '$', '&', \"'\", ',', '-', '.', '3', ':', ';', '?', 'A', 'B', 'C', 'D', 'E', 'F', 'G', 'H', 'I', 'J', 'K', 'L', 'M', 'N', 'O', 'P', 'Q', 'R', 'S', 'T', 'U', 'V', 'W', 'X', 'Y', 'Z', '[', ']', 'a', 'b', 'c', 'd', 'e', 'f', 'g', 'h', 'i', 'j', 'k', 'l', 'm', 'n', 'o', 'p', 'q', 'r', 's', 't', 'u', 'v', 'w', 'x', 'y', 'z']\n",
      "67\n"
     ]
    }
   ],
   "source": [
    "#unique characters in the text\n",
    "chars = sorted(set(text))\n",
    "print(chars)\n",
    "print(len(chars))"
   ]
  },
  {
   "cell_type": "code",
   "execution_count": null,
   "metadata": {
    "colab": {
     "base_uri": "https://localhost:8080/"
    },
    "id": "ojXCfcjoxlo7",
    "outputId": "3e493e43-2268-4d57-c9e3-0f76c27ce7e2"
   },
   "outputs": [
    {
     "name": "stdout",
     "output_type": "stream",
     "text": [
      "['\\n', ' ', '!', '\"', \"'\", '(', ')', '*', ',', '-', '.', '/', '0', '1', '2', '3', '4', '5', '6', '7', '8', '9', ':', ';', '=', '?', 'A', 'B', 'C', 'D', 'E', 'F', 'G', 'H', 'I', 'J', 'K', 'L', 'M', 'N', 'O', 'P', 'Q', 'R', 'S', 'T', 'U', 'V', 'W', 'X', 'Y', 'Z', 'a', 'b', 'c', 'd', 'e', 'f', 'g', 'h', 'i', 'j', 'k', 'l', 'm', 'n', 'o', 'p', 'q', 'r', 's', 't', 'u', 'v', 'w', 'x', 'y', 'z', 'à', 'ä', 'é', 'ê', '\\ufeff']\n",
      "83\n"
     ]
    }
   ],
   "source": [
    "#unique characters in the text 2\n",
    "chars2 = sorted(set(text2))\n",
    "print(chars2)\n",
    "print(len(chars2))"
   ]
  },
  {
   "cell_type": "markdown",
   "metadata": {
    "id": "6dj4e-AGMaV4"
   },
   "source": [
    "# Vectorization"
   ]
  },
  {
   "cell_type": "code",
   "execution_count": null,
   "metadata": {
    "colab": {
     "base_uri": "https://localhost:8080/"
    },
    "id": "xFFpuXfGMPq2",
    "outputId": "6a13e73e-9ea6-4980-eff0-712833ea597a"
   },
   "outputs": [
    {
     "name": "stdout",
     "output_type": "stream",
     "text": [
      "{'\\n': 0, ' ': 1, '!': 2, '$': 3, '&': 4, \"'\": 5, ',': 6, '-': 7, '.': 8, '3': 9, ':': 10, ';': 11, '?': 12, 'A': 13, 'B': 14, 'C': 15, 'D': 16, 'E': 17, 'F': 18, 'G': 19, 'H': 20, 'I': 21, 'J': 22, 'K': 23, 'L': 24, 'M': 25, 'N': 26, 'O': 27, 'P': 28, 'Q': 29, 'R': 30, 'S': 31, 'T': 32, 'U': 33, 'V': 34, 'W': 35, 'X': 36, 'Y': 37, 'Z': 38, '[': 39, ']': 40, 'a': 41, 'b': 42, 'c': 43, 'd': 44, 'e': 45, 'f': 46, 'g': 47, 'h': 48, 'i': 49, 'j': 50, 'k': 51, 'l': 52, 'm': 53, 'n': 54, 'o': 55, 'p': 56, 'q': 57, 'r': 58, 's': 59, 't': 60, 'u': 61, 'v': 62, 'w': 63, 'x': 64, 'y': 65, 'z': 66}\n"
     ]
    }
   ],
   "source": [
    "#mapping characters to indices\n",
    "char_to_idx = {char: index for index, char in enumerate(chars)}\n",
    "print(char_to_idx)"
   ]
  },
  {
   "cell_type": "code",
   "execution_count": null,
   "metadata": {
    "colab": {
     "base_uri": "https://localhost:8080/"
    },
    "id": "0Ohf5GD8xqxZ",
    "outputId": "96477587-b775-4c5a-da79-03a65c7dabf6"
   },
   "outputs": [
    {
     "name": "stdout",
     "output_type": "stream",
     "text": [
      "{'\\n': 0, ' ': 1, '!': 2, '\"': 3, \"'\": 4, '(': 5, ')': 6, '*': 7, ',': 8, '-': 9, '.': 10, '/': 11, '0': 12, '1': 13, '2': 14, '3': 15, '4': 16, '5': 17, '6': 18, '7': 19, '8': 20, '9': 21, ':': 22, ';': 23, '=': 24, '?': 25, 'A': 26, 'B': 27, 'C': 28, 'D': 29, 'E': 30, 'F': 31, 'G': 32, 'H': 33, 'I': 34, 'J': 35, 'K': 36, 'L': 37, 'M': 38, 'N': 39, 'O': 40, 'P': 41, 'Q': 42, 'R': 43, 'S': 44, 'T': 45, 'U': 46, 'V': 47, 'W': 48, 'X': 49, 'Y': 50, 'Z': 51, 'a': 52, 'b': 53, 'c': 54, 'd': 55, 'e': 56, 'f': 57, 'g': 58, 'h': 59, 'i': 60, 'j': 61, 'k': 62, 'l': 63, 'm': 64, 'n': 65, 'o': 66, 'p': 67, 'q': 68, 'r': 69, 's': 70, 't': 71, 'u': 72, 'v': 73, 'w': 74, 'x': 75, 'y': 76, 'z': 77, 'à': 78, 'ä': 79, 'é': 80, 'ê': 81, '\\ufeff': 82}\n"
     ]
    }
   ],
   "source": [
    "#mapping characters to indices 2\n",
    "char_to_idx2 = {char2: index2 for index2, char2 in enumerate(chars2)}\n",
    "print(char_to_idx2)"
   ]
  },
  {
   "cell_type": "code",
   "execution_count": null,
   "metadata": {
    "colab": {
     "base_uri": "https://localhost:8080/"
    },
    "id": "lQB33zI7NkRo",
    "outputId": "4a7845f5-34cb-4d4e-8cb7-cfcc06690326"
   },
   "outputs": [
    {
     "name": "stdout",
     "output_type": "stream",
     "text": [
      "['\\n' ' ' '!' '$' '&' \"'\" ',' '-' '.' '3' ':' ';' '?' 'A' 'B' 'C' 'D' 'E'\n",
      " 'F' 'G' 'H' 'I' 'J' 'K' 'L' 'M' 'N' 'O' 'P' 'Q' 'R' 'S' 'T' 'U' 'V' 'W'\n",
      " 'X' 'Y' 'Z' '[' ']' 'a' 'b' 'c' 'd' 'e' 'f' 'g' 'h' 'i' 'j' 'k' 'l' 'm'\n",
      " 'n' 'o' 'p' 'q' 'r' 's' 't' 'u' 'v' 'w' 'x' 'y' 'z']\n"
     ]
    }
   ],
   "source": [
    "#mapping indices to characters\n",
    "idx_to_char = np.array(chars)\n",
    "print(idx_to_char)"
   ]
  },
  {
   "cell_type": "code",
   "execution_count": null,
   "metadata": {
    "colab": {
     "base_uri": "https://localhost:8080/"
    },
    "id": "sox-NxWhxuvb",
    "outputId": "21841548-5ea5-4d6d-c5af-ac3af291cc1f"
   },
   "outputs": [
    {
     "name": "stdout",
     "output_type": "stream",
     "text": [
      "['\\n' ' ' '!' '\"' \"'\" '(' ')' '*' ',' '-' '.' '/' '0' '1' '2' '3' '4' '5'\n",
      " '6' '7' '8' '9' ':' ';' '=' '?' 'A' 'B' 'C' 'D' 'E' 'F' 'G' 'H' 'I' 'J'\n",
      " 'K' 'L' 'M' 'N' 'O' 'P' 'Q' 'R' 'S' 'T' 'U' 'V' 'W' 'X' 'Y' 'Z' 'a' 'b'\n",
      " 'c' 'd' 'e' 'f' 'g' 'h' 'i' 'j' 'k' 'l' 'm' 'n' 'o' 'p' 'q' 'r' 's' 't'\n",
      " 'u' 'v' 'w' 'x' 'y' 'z' 'à' 'ä' 'é' 'ê' '\\ufeff']\n"
     ]
    }
   ],
   "source": [
    "#mapping indices to characters\n",
    "idx_to_char2 = np.array(chars2)\n",
    "print(idx_to_char2)"
   ]
  },
  {
   "cell_type": "code",
   "execution_count": null,
   "metadata": {
    "colab": {
     "base_uri": "https://localhost:8080/"
    },
    "id": "DXUAlYmvN_Rj",
    "outputId": "09abe349-792a-4490-abd1-1f1b6cca1522"
   },
   "outputs": [
    {
     "data": {
      "text/plain": [
       "array([18, 49, 58, ..., 45,  8,  0])"
      ]
     },
     "execution_count": 7,
     "metadata": {},
     "output_type": "execute_result"
    }
   ],
   "source": [
    "#vectorizing the text\n",
    "vec_text = np.array([char_to_idx[char] for char in text])\n",
    "vec_text"
   ]
  },
  {
   "cell_type": "code",
   "execution_count": null,
   "metadata": {
    "colab": {
     "base_uri": "https://localhost:8080/"
    },
    "id": "Fg9zGquhyA-i",
    "outputId": "6558dae4-0f6b-4f26-a228-5596a4d43dc0"
   },
   "outputs": [
    {
     "data": {
      "text/plain": [
       "array([82,  3, 48, ..., 72, 70, 10])"
      ]
     },
     "execution_count": 64,
     "metadata": {},
     "output_type": "execute_result"
    }
   ],
   "source": [
    "#vectorizing the text 2\n",
    "vec_text2 = np.array([char_to_idx2[char2] for char2 in text2])\n",
    "vec_text2"
   ]
  },
  {
   "cell_type": "markdown",
   "metadata": {
    "id": "CHv5HhUuTQYS"
   },
   "source": [
    "# Dividing text into 100 character sentences and 8 character words respectively"
   ]
  },
  {
   "cell_type": "code",
   "execution_count": null,
   "metadata": {
    "colab": {
     "base_uri": "https://localhost:8080/"
    },
    "id": "9tHT8IXGTTtZ",
    "outputId": "6c80d411-afa3-483d-eb44-f2c1cc3cc637"
   },
   "outputs": [
    {
     "name": "stdout",
     "output_type": "stream",
     "text": [
      "examples_per_epoch: 45280\n"
     ]
    }
   ],
   "source": [
    "sentence_len = 100\n",
    "examples_per_epoch = len(text) // (sentence_len + 1)\n",
    "\n",
    "print('examples_per_epoch:', examples_per_epoch)"
   ]
  },
  {
   "cell_type": "code",
   "execution_count": null,
   "metadata": {
    "colab": {
     "base_uri": "https://localhost:8080/"
    },
    "id": "Lyjo2QEGyNG2",
    "outputId": "06831501-aadd-4225-9af6-74010d17cad1"
   },
   "outputs": [
    {
     "name": "stdout",
     "output_type": "stream",
     "text": [
      "examples_per_epoch 2: 355134\n"
     ]
    }
   ],
   "source": [
    "sentence_len2 = 8\n",
    "examples_per_epoch2 = len(text2) // (sentence_len2 + 1)\n",
    "\n",
    "print('examples_per_epoch 2:', examples_per_epoch2)"
   ]
  },
  {
   "cell_type": "code",
   "execution_count": null,
   "metadata": {
    "colab": {
     "base_uri": "https://localhost:8080/"
    },
    "id": "Pf5tMMDnUP3q",
    "outputId": "48dbe354-15a9-439c-c229-b2f8b0c7c5e2"
   },
   "outputs": [
    {
     "name": "stdout",
     "output_type": "stream",
     "text": [
      "F\n",
      "i\n",
      "r\n",
      "s\n",
      "t\n"
     ]
    }
   ],
   "source": [
    "#final training dataset\n",
    "char_data = tf.data.Dataset.from_tensor_slices(vec_text)\n",
    "\n",
    "for char in char_data.take(5):\n",
    "    print(idx_to_char[char.numpy()])"
   ]
  },
  {
   "cell_type": "code",
   "execution_count": null,
   "metadata": {
    "colab": {
     "base_uri": "https://localhost:8080/"
    },
    "id": "cVdmet0H0JG0",
    "outputId": "25fe9e29-7f14-428f-d8d3-b0c22428bee5"
   },
   "outputs": [
    {
     "name": "stdout",
     "output_type": "stream",
     "text": [
      "\n",
      "\"\n",
      "W\n",
      "e\n",
      "l\n"
     ]
    }
   ],
   "source": [
    "#final training dataset 2\n",
    "char_data2 = tf.data.Dataset.from_tensor_slices(vec_text2)\n",
    "\n",
    "for char2 in char_data2.take(5):\n",
    "    print(idx_to_char2[char2.numpy()])"
   ]
  },
  {
   "cell_type": "code",
   "execution_count": null,
   "metadata": {
    "id": "Ap71VjB2Vuct"
   },
   "outputs": [],
   "source": [
    "#creating batches\n",
    "sentences = char_data.batch(sentence_len + 1, drop_remainder=True)"
   ]
  },
  {
   "cell_type": "code",
   "execution_count": null,
   "metadata": {
    "id": "zm5QZzlcyNEg"
   },
   "outputs": [],
   "source": [
    "#creating batches 2\n",
    "sentences2 = char_data2.batch(sentence_len2 + 1, drop_remainder=True)"
   ]
  },
  {
   "cell_type": "code",
   "execution_count": null,
   "metadata": {
    "colab": {
     "base_uri": "https://localhost:8080/"
    },
    "id": "WxSbQzJdhGVr",
    "outputId": "88a1271f-a911-4d87-fdc6-50f838981f9d"
   },
   "outputs": [
    {
     "data": {
      "text/plain": [
       "45280"
      ]
     },
     "execution_count": 11,
     "metadata": {},
     "output_type": "execute_result"
    }
   ],
   "source": [
    "len(list(sentences.as_numpy_iterator()))"
   ]
  },
  {
   "cell_type": "code",
   "execution_count": null,
   "metadata": {
    "colab": {
     "base_uri": "https://localhost:8080/"
    },
    "id": "OP8iaI2XyNCK",
    "outputId": "75de86bf-c686-4873-d926-749f05d3fd47"
   },
   "outputs": [
    {
     "data": {
      "text/plain": [
       "355134"
      ]
     },
     "execution_count": 101,
     "metadata": {},
     "output_type": "execute_result"
    }
   ],
   "source": [
    "len(list(sentences2.as_numpy_iterator()))"
   ]
  },
  {
   "cell_type": "markdown",
   "metadata": {
    "id": "HdcrcUs4Xxso"
   },
   "source": [
    "# Shifting right to generate target data"
   ]
  },
  {
   "cell_type": "code",
   "execution_count": null,
   "metadata": {
    "id": "9fxvXsP0XFDh"
   },
   "outputs": [],
   "source": [
    "def input_target_split(text):\n",
    "    input = text[:-1]\n",
    "    target = text[1:]\n",
    "    return input, target\n",
    "\n",
    "data = sentences.map(input_target_split)"
   ]
  },
  {
   "cell_type": "code",
   "execution_count": null,
   "metadata": {
    "id": "SlxYCXwZyM_N"
   },
   "outputs": [],
   "source": [
    "def input_target_split2(text2):\n",
    "    input2 = text2[:-1]\n",
    "    target2 = text2[1:]\n",
    "    return input2, target2\n",
    "\n",
    "data2 = sentences2.map(input_target_split2)"
   ]
  },
  {
   "cell_type": "code",
   "execution_count": null,
   "metadata": {
    "colab": {
     "base_uri": "https://localhost:8080/"
    },
    "id": "Kuoh4tCdYCck",
    "outputId": "aff02aff-6d56-41a7-c41c-c19595ae32e0"
   },
   "outputs": [
    {
     "name": "stdout",
     "output_type": "stream",
     "text": [
      "Input: 'First Citizen:\\nBefore we proceed any further, hear me speak.\\n\\nAll:\\nSpeak, speak.\\n\\nFirst Citizen:\\nYou'\n",
      "Target: 'irst Citizen:\\nBefore we proceed any further, hear me speak.\\n\\nAll:\\nSpeak, speak.\\n\\nFirst Citizen:\\nYou '\n"
     ]
    }
   ],
   "source": [
    "for input_example, target_example in data.take(1):\n",
    "    print('Input:', repr(''.join(idx_to_char[input_example.numpy()])))\n",
    "    print('Target:', repr(''.join(idx_to_char[target_example.numpy()])))"
   ]
  },
  {
   "cell_type": "code",
   "execution_count": null,
   "metadata": {
    "colab": {
     "base_uri": "https://localhost:8080/"
    },
    "id": "G4Ixstt6yM8a",
    "outputId": "4ce9a3c0-30f0-484f-8cd6-19567261eb1c"
   },
   "outputs": [
    {
     "name": "stdout",
     "output_type": "stream",
     "text": [
      "Input 2: '\\ufeff\"Well, '\n",
      "Target 2: '\"Well, P'\n"
     ]
    }
   ],
   "source": [
    "for input_example2, target_example2 in data2.take(1):\n",
    "    print('Input 2:', repr(''.join(idx_to_char2[input_example2.numpy()])))\n",
    "    print('Target 2:', repr(''.join(idx_to_char2[target_example2.numpy()])))"
   ]
  },
  {
   "cell_type": "code",
   "execution_count": null,
   "metadata": {
    "colab": {
     "base_uri": "https://localhost:8080/"
    },
    "id": "XSgelQydpFww",
    "outputId": "153d246a-4ee4-4f5f-90d4-6c82c14f7df3"
   },
   "outputs": [
    {
     "data": {
      "text/plain": [
       "45280"
      ]
     },
     "execution_count": 14,
     "metadata": {},
     "output_type": "execute_result"
    }
   ],
   "source": [
    "len(data)"
   ]
  },
  {
   "cell_type": "code",
   "execution_count": null,
   "metadata": {
    "colab": {
     "base_uri": "https://localhost:8080/"
    },
    "id": "cgs5kvu7yM5X",
    "outputId": "d529aeb2-db63-4927-b29f-faaef3888951"
   },
   "outputs": [
    {
     "data": {
      "text/plain": [
       "31645"
      ]
     },
     "execution_count": 72,
     "metadata": {},
     "output_type": "execute_result"
    }
   ],
   "source": [
    "len(data2)"
   ]
  },
  {
   "cell_type": "markdown",
   "metadata": {
    "id": "1iDlp40lC5YB"
   },
   "source": [
    "### Splitting the training data into batches"
   ]
  },
  {
   "cell_type": "code",
   "execution_count": null,
   "metadata": {
    "id": "eDq-wa5EC3wW"
   },
   "outputs": [],
   "source": [
    "batch_size = 64\n",
    "\n",
    "buffer_size = 10000\n",
    "\n",
    "data = data.shuffle(buffer_size).batch(batch_size, drop_remainder=True)"
   ]
  },
  {
   "cell_type": "code",
   "execution_count": null,
   "metadata": {
    "id": "psjg4gOdyM2q"
   },
   "outputs": [],
   "source": [
    "batch_size2 = 64\n",
    "\n",
    "buffer_size2 = 10000\n",
    "\n",
    "data2 = data2.shuffle(buffer_size2).batch(batch_size2, drop_remainder=True)"
   ]
  },
  {
   "cell_type": "code",
   "execution_count": null,
   "metadata": {
    "colab": {
     "base_uri": "https://localhost:8080/"
    },
    "id": "1x4puZiiOlyl",
    "outputId": "67bb986c-0de2-418f-c797-2f3272434ba9"
   },
   "outputs": [
    {
     "name": "stdout",
     "output_type": "stream",
     "text": [
      "Size of dataset after dividing into batches: 707\n"
     ]
    }
   ],
   "source": [
    "print('Size of dataset after dividing into batches:', (len(list(data.as_numpy_iterator()))))"
   ]
  },
  {
   "cell_type": "code",
   "execution_count": null,
   "metadata": {
    "colab": {
     "base_uri": "https://localhost:8080/"
    },
    "id": "LDTwVta-yMzg",
    "outputId": "7f879cb7-4b38-4c15-c0a4-02cb217c2863"
   },
   "outputs": [
    {
     "name": "stdout",
     "output_type": "stream",
     "text": [
      "Size of dataset 2 after dividing into batches: 5548\n"
     ]
    }
   ],
   "source": [
    "print('Size of dataset 2 after dividing into batches:', (len(list(data2.as_numpy_iterator()))))"
   ]
  },
  {
   "cell_type": "markdown",
   "metadata": {
    "id": "ghB-VwLlD-Oz"
   },
   "source": [
    "## LSTM Model Building"
   ]
  },
  {
   "cell_type": "code",
   "execution_count": null,
   "metadata": {
    "id": "I7ZuvZHBD_pS"
   },
   "outputs": [],
   "source": [
    "#length of the vocabulary\n",
    "chars_size = len(chars)\n",
    "#embedding dimension\n",
    "embed_dim = 256\n",
    "#no. of RNN units\n",
    "rnn_units = 1024"
   ]
  },
  {
   "cell_type": "code",
   "execution_count": null,
   "metadata": {
    "id": "I_rSe2gL3EoV"
   },
   "outputs": [],
   "source": [
    "#length of the vocabulary\n",
    "chars_size2 = len(chars2)\n",
    "#embedding dimension\n",
    "embed_dim = 256\n",
    "#no. of RNN units\n",
    "rnn_units = 1024"
   ]
  },
  {
   "cell_type": "code",
   "execution_count": null,
   "metadata": {
    "id": "-sojdDCAICWO"
   },
   "outputs": [],
   "source": [
    "def build_model(chars_size, embed_dim, rnn_units, batch_size):\n",
    "    model = tf.keras.models.Sequential()\n",
    "    model.add(tf.keras.layers.Embedding(input_dim=chars_size, output_dim=embed_dim, batch_input_shape=[batch_size, None]))\n",
    "    model.add(tf.keras.layers.LSTM(units=rnn_units, return_sequences=True, stateful=True, recurrent_initializer=tf.keras.initializers.GlorotNormal()))\n",
    "    model.add(tf.keras.layers.Dense(chars_size))\n",
    "    return model"
   ]
  },
  {
   "cell_type": "code",
   "execution_count": null,
   "metadata": {
    "id": "XoPwxyAPEg6z"
   },
   "outputs": [],
   "source": [
    "model = build_model(chars_size, embed_dim, rnn_units, batch_size)"
   ]
  },
  {
   "cell_type": "code",
   "execution_count": null,
   "metadata": {
    "id": "_W8TROLy3MiY"
   },
   "outputs": [],
   "source": [
    "model2 = build_model(chars_size2, embed_dim, rnn_units, batch_size2)"
   ]
  },
  {
   "cell_type": "code",
   "execution_count": null,
   "metadata": {
    "colab": {
     "base_uri": "https://localhost:8080/"
    },
    "id": "iLnlZFgU55bQ",
    "outputId": "cb3b248e-ac3f-46f5-a57f-25be1563df69"
   },
   "outputs": [
    {
     "name": "stdout",
     "output_type": "stream",
     "text": [
      "Model: \"sequential\"\n",
      "_________________________________________________________________\n",
      " Layer (type)                Output Shape              Param #   \n",
      "=================================================================\n",
      " embedding (Embedding)       (64, None, 256)           17152     \n",
      "                                                                 \n",
      " lstm (LSTM)                 (64, None, 1024)          5246976   \n",
      "                                                                 \n",
      " dense (Dense)               (64, None, 67)            68675     \n",
      "                                                                 \n",
      "=================================================================\n",
      "Total params: 5332803 (20.34 MB)\n",
      "Trainable params: 5332803 (20.34 MB)\n",
      "Non-trainable params: 0 (0.00 Byte)\n",
      "_________________________________________________________________\n"
     ]
    }
   ],
   "source": [
    "model.summary()"
   ]
  },
  {
   "cell_type": "markdown",
   "metadata": {
    "id": "LqcBufKEE_p6"
   },
   "source": [
    "# Model Training"
   ]
  },
  {
   "cell_type": "code",
   "execution_count": null,
   "metadata": {
    "id": "UOEUUm6JE95a"
   },
   "outputs": [],
   "source": [
    "def loss(labels, logits):\n",
    "    return tf.keras.losses.sparse_categorical_crossentropy(y_true=labels, y_pred=logits, from_logits=True)"
   ]
  },
  {
   "cell_type": "code",
   "execution_count": null,
   "metadata": {
    "id": "SXhJsB6eFgrJ"
   },
   "outputs": [],
   "source": [
    "adam_optimizer = tf.keras.optimizers.Adam(learning_rate=0.001)\n",
    "model.compile(optimizer=adam_optimizer, loss=loss)\n",
    "model2.compile(optimizer=adam_optimizer, loss=loss)"
   ]
  },
  {
   "cell_type": "code",
   "execution_count": null,
   "metadata": {
    "id": "LUhXnHPJFy5q"
   },
   "outputs": [],
   "source": [
    "#directory to save checkpoints\n",
    "dir = 'checkpoints'\n",
    "os.makedirs(dir, exist_ok=True)\n",
    "\n",
    "prefix = os.path.join(dir, 'shakespeareLSTM{epoch}')\n",
    "\n",
    "callback = tf.keras.callbacks.ModelCheckpoint(filepath=prefix, save_weights_only=True)"
   ]
  },
  {
   "cell_type": "code",
   "execution_count": null,
   "metadata": {
    "id": "orZKLMFl3vub"
   },
   "outputs": [],
   "source": [
    "#directory to save checkpoints\n",
    "dir2 = 'checkpoints2'\n",
    "os.makedirs(dir2, exist_ok=True)\n",
    "\n",
    "prefix2 = os.path.join(dir2, 'warpeaceLSTM{epoch}')\n",
    "\n",
    "callback2 = tf.keras.callbacks.ModelCheckpoint(filepath=prefix2, save_weights_only=True)"
   ]
  },
  {
   "cell_type": "code",
   "execution_count": null,
   "metadata": {
    "colab": {
     "base_uri": "https://localhost:8080/"
    },
    "id": "y0rveBdAGeEz",
    "outputId": "1c8e14e5-cf6f-45bc-b1b7-952f4fae4d4f"
   },
   "outputs": [
    {
     "name": "stdout",
     "output_type": "stream",
     "text": [
      "Epoch 1/10\n",
      "707/707 [==============================] - 61s 76ms/step - loss: 1.9325\n",
      "Epoch 2/10\n",
      "707/707 [==============================] - 59s 80ms/step - loss: 1.4308\n",
      "Epoch 3/10\n",
      "707/707 [==============================] - 58s 80ms/step - loss: 1.3370\n",
      "Epoch 4/10\n",
      "707/707 [==============================] - 57s 79ms/step - loss: 1.2905\n",
      "Epoch 5/10\n",
      "707/707 [==============================] - 58s 80ms/step - loss: 1.2579\n",
      "Epoch 6/10\n",
      "707/707 [==============================] - 59s 81ms/step - loss: 1.2320\n",
      "Epoch 7/10\n",
      "707/707 [==============================] - 59s 80ms/step - loss: 1.2092\n",
      "Epoch 8/10\n",
      "707/707 [==============================] - 58s 79ms/step - loss: 1.1891\n",
      "Epoch 9/10\n",
      "707/707 [==============================] - 58s 80ms/step - loss: 1.1701\n",
      "Epoch 10/10\n",
      "707/707 [==============================] - 58s 80ms/step - loss: 1.1522\n"
     ]
    }
   ],
   "source": [
    "history = model.fit(x = data, epochs = 10, callbacks=[callback])"
   ]
  },
  {
   "cell_type": "code",
   "execution_count": null,
   "metadata": {
    "colab": {
     "base_uri": "https://localhost:8080/"
    },
    "id": "m8nXNDMQ394T",
    "outputId": "3656c61e-c8a4-40a4-de9a-134e59c27377"
   },
   "outputs": [
    {
     "name": "stdout",
     "output_type": "stream",
     "text": [
      "Epoch 1/10\n",
      "5548/5548 [==============================] - 60s 11ms/step - loss: 1.8974\n",
      "Epoch 2/10\n",
      "5548/5548 [==============================] - 58s 10ms/step - loss: 1.7294\n",
      "Epoch 3/10\n",
      "5548/5548 [==============================] - 58s 10ms/step - loss: 1.7020\n",
      "Epoch 4/10\n",
      "5548/5548 [==============================] - 57s 10ms/step - loss: 1.6878\n",
      "Epoch 5/10\n",
      "5548/5548 [==============================] - 58s 10ms/step - loss: 1.6800\n",
      "Epoch 6/10\n",
      "5548/5548 [==============================] - 58s 10ms/step - loss: 1.6747\n",
      "Epoch 7/10\n",
      "5548/5548 [==============================] - 57s 10ms/step - loss: 1.6707\n",
      "Epoch 8/10\n",
      "5548/5548 [==============================] - 58s 10ms/step - loss: 1.6676\n",
      "Epoch 9/10\n",
      "5548/5548 [==============================] - 57s 10ms/step - loss: 1.6664\n",
      "Epoch 10/10\n",
      "5548/5548 [==============================] - 57s 10ms/step - loss: 1.6635\n"
     ]
    }
   ],
   "source": [
    "history2 = model2.fit(x = data2, epochs = 10, callbacks=[callback2])"
   ]
  },
  {
   "cell_type": "code",
   "execution_count": null,
   "metadata": {
    "colab": {
     "base_uri": "https://localhost:8080/",
     "height": 472
    },
    "id": "mLdnOyvzMggJ",
    "outputId": "ee29f84e-10b4-4f4b-e2b1-e70ffde4a009"
   },
   "outputs": [
    {
     "data": {
      "image/png": "[encoded data removed]",
      "text/plain": [
       "<Figure size 640x480 with 1 Axes>"
      ]
     },
     "metadata": {},
     "output_type": "display_data"
    }
   ],
   "source": [
    "loss = history.history['loss']\n",
    "plt.title('Shakespeare Text Loss')\n",
    "plt.xlabel('Epoch')\n",
    "plt.ylabel('Loss')\n",
    "plt.plot(loss, label='Training set')\n",
    "plt.legend()\n",
    "plt.grid(linestyle='--', linewidth=1, alpha=0.5)\n",
    "plt.show()"
   ]
  },
  {
   "cell_type": "code",
   "execution_count": null,
   "metadata": {
    "colab": {
     "base_uri": "https://localhost:8080/",
     "height": 472
    },
    "id": "bq-rI-rc4XuO",
    "outputId": "228e9d34-a974-40ba-ce0a-9b3037c38274"
   },
   "outputs": [
    {
     "data": {
      "image/png": "[encoded data removed]",
      "text/plain": [
       "<Figure size 640x480 with 1 Axes>"
      ]
     },
     "metadata": {},
     "output_type": "display_data"
    }
   ],
   "source": [
    "loss = history2.history['loss']\n",
    "plt.title('War Peace Text Loss')\n",
    "plt.xlabel('Epoch')\n",
    "plt.ylabel('Loss')\n",
    "plt.plot(loss, label='Training set 2')\n",
    "plt.legend()\n",
    "plt.grid(linestyle='--', linewidth=1, alpha=0.5)\n",
    "plt.show()"
   ]
  },
  {
   "cell_type": "markdown",
   "metadata": {
    "id": "X-dhNP2OG2EM"
   },
   "source": [
    "# Making Predictions!"
   ]
  },
  {
   "cell_type": "code",
   "execution_count": null,
   "metadata": {
    "colab": {
     "base_uri": "https://localhost:8080/",
     "height": 35
    },
    "id": "BlG8o3wiG6f2",
    "outputId": "51100cab-a9b0-4d30-acaa-411a3d53e392"
   },
   "outputs": [],
   "source": [
    "tf.train.latest_checkpoint(dir)\n",
    "tf.train.latest_checkpoint(dir2)"
   ]
  },
  {
   "cell_type": "code",
   "execution_count": null,
   "metadata": {
    "id": "l7evN0LvH01P"
   },
   "outputs": [],
   "source": [
    "sim_batch_size = 1\n",
    "\n",
    "model = build_model(chars_size, embed_dim, rnn_units, batch_size=1)\n",
    "\n",
    "model.load_weights(tf.train.latest_checkpoint(dir))\n",
    "\n",
    "model.build(tf.TensorShape([sim_batch_size, None]))"
   ]
  },
  {
   "cell_type": "code",
   "execution_count": null,
   "metadata": {
    "id": "RyzY72ky5Ab3"
   },
   "outputs": [],
   "source": [
    "model2 = build_model(chars_size2, embed_dim, rnn_units, batch_size=1)\n",
    "\n",
    "model2.load_weights(tf.train.latest_checkpoint(dir2))\n",
    "\n",
    "model2.build(tf.TensorShape([sim_batch_size, None]))"
   ]
  },
  {
   "cell_type": "code",
   "execution_count": null,
   "metadata": {
    "colab": {
     "base_uri": "https://localhost:8080/"
    },
    "id": "Y3eduDtZI9zQ",
    "outputId": "f7c35984-ac87-4506-a12d-ba558e78ff66"
   },
   "outputs": [
    {
     "name": "stdout",
     "output_type": "stream",
     "text": [
      "Model: \"sequential_2\"\n",
      "_________________________________________________________________\n",
      " Layer (type)                Output Shape              Param #   \n",
      "=================================================================\n",
      " embedding_1 (Embedding)     (1, None, 256)            17152     \n",
      "                                                                 \n",
      " lstm_1 (LSTM)               (1, None, 1024)           5246976   \n",
      "                                                                 \n",
      " dense_1 (Dense)             (1, None, 67)             68675     \n",
      "                                                                 \n",
      "=================================================================\n",
      "Total params: 5332803 (20.34 MB)\n",
      "Trainable params: 5332803 (20.34 MB)\n",
      "Non-trainable params: 0 (0.00 Byte)\n",
      "_________________________________________________________________\n"
     ]
    }
   ],
   "source": [
    "model.summary()"
   ]
  },
  {
   "cell_type": "code",
   "execution_count": null,
   "metadata": {
    "id": "bOqdqGouJFf_"
   },
   "outputs": [],
   "source": [
    "def generate_text(model, prompt, length = 1000, temp=1.0):\n",
    "\n",
    "    input_indices = [char_to_idx[s] for s in prompt]\n",
    "    input_indices = tf.expand_dims(input_indices, 0)\n",
    "\n",
    "    text_generated = []\n",
    "\n",
    "    model.reset_states()\n",
    "    for char_index in range(length):\n",
    "        predictions = model(input_indices)\n",
    "        predictions = tf.squeeze(predictions, 0)\n",
    "\n",
    "        predictions = predictions / temp\n",
    "        predicted_id = tf.random.categorical(\n",
    "        predictions,\n",
    "        num_samples=1\n",
    "        )[-1,0].numpy()\n",
    "\n",
    "        input_indices = tf.expand_dims([predicted_id], 0)\n",
    "\n",
    "        text_generated.append(idx_to_char[predicted_id])\n",
    "\n",
    "    return (prompt + ''.join(text_generated))"
   ]
  },
  {
   "cell_type": "code",
   "execution_count": null,
   "metadata": {
    "id": "znHTiMQY5Ru1"
   },
   "outputs": [],
   "source": [
    "def generate_text2(model2, prompt2, length2 = 1000, temp2 = 1.0):\n",
    "\n",
    "    input_indices2 = [char_to_idx2[s] for s in prompt2]\n",
    "    input_indices2 = tf.expand_dims(input_indices2, 0)\n",
    "\n",
    "    text_generated2 = []\n",
    "\n",
    "    model.reset_states()\n",
    "    for char_index2 in range(length2):\n",
    "        predictions2 = model(input_indices2)\n",
    "        predictions2 = tf.squeeze(predictions2, 0)\n",
    "\n",
    "        predictions2 = predictions2 / temp2\n",
    "        predicted_id2 = tf.random.categorical(\n",
    "        predictions2,\n",
    "        num_samples=1\n",
    "        )[-1,0].numpy()\n",
    "\n",
    "        input_indices = tf.expand_dims([predicted_id2], 0)\n",
    "\n",
    "        text_generated2.append(idx_to_char[predicted_id2])\n",
    "\n",
    "    return (prompt2 + ''.join(text_generated2))"
   ]
  },
  {
   "cell_type": "code",
   "execution_count": null,
   "metadata": {
    "colab": {
     "base_uri": "https://localhost:8080/"
    },
    "id": "Z-8e8P60J5Pg",
    "outputId": "2e13278a-a509-4dae-939a-207e406bf438"
   },
   "outputs": [
    {
     "name": "stdout",
     "output_type": "stream",
     "text": [
      "RITHEESH: but may I grace one\n",
      "poer to interrew him?\n",
      "\n",
      "FLAVIUS:\n",
      "\n",
      "First Gaoler:\n",
      "In this a night she shall be lever'd have lellied as cheerfully attaint.\n",
      "I call the unmalling one, my father's tom,\n",
      "And put them in sad blood. Dispute me vipe, before us, I will leave:\n",
      "The one alive.\n",
      "\n",
      "ALL:\n",
      "Captain Blastom, see them persuaded.\n",
      "\n",
      "BASTARD:\n",
      "Is your provoket can do as seven as I have\n",
      "saws to offer the lamentable servants.\n",
      "And now will I not yield unfold the English?\n",
      "And all this fort, ld stands still, Lean, sir, and all\n",
      "our house in me, safe and am a graveould see you;\n",
      "But baggages: and when I am a king,\n",
      "He will, my lord, for a king, my guil! this villain,\n",
      "Nor search with the thing you healthinking:\n",
      "You must not make an ace; for either fell well,\n",
      "Whether fortune treaten'd with a dull whip their tricks we do remain a nothing so much\n",
      "sized as to be saved: herein God's word\n",
      "must I beheart: he sees thee: what right hath make you laid of the near? I am his silk.\n",
      "Happy gatish your bosom for a knowlerga's sinews,\n",
      "An\n",
      "\n",
      "\n",
      "\n",
      "\n",
      "\n",
      "\n",
      "\n",
      "\n",
      "\n",
      "\n",
      "helloaaae .aeloleyaoye yeeeeyyaeoyaiaeaaahhay.eaelleaoaaaoaeoyyaeieyaeaieeeiahyayeaaoaaylaeoa oeaeaaeaaaa!yeeeiehaalayeyeeeeyeeayaaaeioohyeeeeeaelhyelehayaoeyeyaeaiaenheyeeea,yeaheW  ,aoe aeaae  le.heeraaeaaeae  ieaeIaaehelaayaalha ae?i.oyiaaee\n",
      "e,aaeeeae yaiaylleeia i,leeyaaohaa?aea;ya eiayeaya,aeaaeeaeea hehoyiaeehleao ee aeyleleyyye,e ee,aeayeeayioalaaal ee.ahaaae!ayay.e yehaaaoyeeeyeeeeaah aareaaereleaaehy\n",
      "eee , aeeeehelaeeylyelyheieyiaaaoaaeelaayya:aaeeeoyolhyey yieyee iaheaoeeealae:haes yellayya,a eaaaeayleaaey.a aayeelihelea!yeeheeaaaal eaaeh ay eheaereyeeeeaaeh!aeye.aalaayaeyayaa le,aaee  yeeU aeaeeee ehae,haaeoeelhaaaaael yeeaayaaooereaea!a eeeehayleiyolrayaoyieeaa eheaaaaelyleeaha aeaahaaeoeaye,eeyehiaeaieeealeioea lea:iaee yeeeiaeeaaihay.ae aaeayyy yaeeaoaaaeoayihyylaaeaaaelaaayyayehyaereaa,layey.aoly.ehyeeiaeiolyeay;aaeeaaee,heoaeeoo aeaea!yael helay;ao , iyaay?ahaalaealalaaeeeaa alaoyoleyaeeralyhaeelaeyeheaa healaa.hiealeaheaeeaaeeoeye .aaaiaaaa eeaaaeayeyha eiea lyeloa ae eyryy\n"
     ]
    }
   ],
   "source": [
    "#temperature = 1.0\n",
    "print(generate_text(model, prompt=u\"RITHEESH: \", length = 1000, temp=1.0))\n",
    "print('\\n')\n",
    "print('\\n')\n",
    "print('\\n')\n",
    "print('\\n')\n",
    "print('\\n')\n",
    "print(generate_text2(model2, prompt2=u\"hello\", length2 = 1000, temp2=1.0))"
   ]
  },
  {
   "cell_type": "code",
   "execution_count": null,
   "metadata": {
    "colab": {
     "base_uri": "https://localhost:8080/"
    },
    "id": "wq_NlwWJSdix",
    "outputId": "51c2cb90-2245-4185-cf23-effd299e4569"
   },
   "outputs": [
    {
     "name": "stdout",
     "output_type": "stream",
     "text": [
      "RITHEESH GURURI: HAMLET:\n",
      "Not I.\n",
      "\n",
      "HELee.\n",
      "\n",
      "NYM:\n",
      "Sienann; it is; if not, you will, push: that's\n",
      "clean refrance tamn:\n",
      "Then, to Eng, force, pardon; thily nothing,\n",
      "Would out.\n",
      "\n",
      "First Soldwell\n",
      "Caesar:\n",
      "Caesar bore, I slew God look\n",
      "SIL:\n",
      "DaCy, you elr,-poor ape, Time, cons, it walks from\n",
      "Poupe and Hurthouslaft? ipear,luts so: what ith him? I do been s\n",
      "No madath than Summon! Consilence moonshtood's rights.\n",
      "\n",
      "ULYSSES:\n",
      "I oator:\n",
      "Marry, an't be so, LeMonger; and he thritoin Plue\n",
      "wives parcolable! O monsieur.\n",
      "\n",
      "SALPER:\n",
      "Sarrie; be givenells mischieve:\n",
      "Mine eads firsy reports wr in thy sooner. Lo,'t to Northamen\n",
      "\n",
      "dissld flowers? thou have a\n",
      "pain, the blaz; no.\n",
      "But, my br tOBARY: CKNOTrundle 'em crack, aid\n",
      "Five hurts forbeal.\n",
      "I may live past villain acy\n",
      "the civil Londur! whereuply!\n",
      "Didings, then!\n",
      "\n",
      "BUCKINGHAM:\n",
      "Madman, my Lord of York, Vatid u!\n",
      "You're nours, forbeawing chiefest. Alas!: 'I do!\n",
      "Le assure them, I'll.\n",
      "Piron,\n",
      "Extolusis?\n",
      "\n",
      "MESSAL to Agamemocu of mine?\n",
      "\n",
      "POINS:\n",
      "My kingdown oats, three-speery, doubt not,\n",
      "Welcome from g\n",
      "\n",
      "\n",
      "\n",
      "\n",
      "\n",
      "\n",
      "\n",
      "\n",
      "\n",
      "\n",
      "worldro rrrrrrurrrrrrour-xmorrrrresrrrrrrorr\n",
      "xmrorrosarr\n",
      "rrrrxrr,rrmxrum-rm ;rrdrluurrlarerrxr:r rrnrrrerrlrrlrr;r:r:wrml-xdrr-rrmrWr,rrrlr orrrmxrrrreremrrtxorouu;ru\n",
      "rrxrrreowr.mtulr orrgot,eouuurxorxrlfrereurrrlrrhxmrxmlr-lrrrmrnrr,rrare nraxrlrzrrltrwrexmegerrrrrermxururwwru?rmrrrrrr.rlrlxrrr\n",
      "umrrrnurrrerxrrruIdrx: -ulmnr?;rm:rrrkgmurr.uwrorrmrrromo?xurrmrmlr!y-orrmsuorerrxmorxxlore\n",
      "rrtrrmu,m-rr:rlrwrr;r.rrr: orrueol-e,uneerrarrwxr xmurrrrrurrurr,exmxxomrlrxrewrrrrrruuuwrxxrek-wur rr;:rru;rrrFumu?erroxrrrxworrm;urrrr-awr ourmuruo[rrrrrrx.rlrerrrrrtmraerruumrrurrxlx.umrrrxrrrurao' lorstlo rrmrurxorrrrre rrrxm rrtrruerrrmrtrrrodhrrlrtewr rumrmr rlrrerrrf:rrlrxraxxulsaorremwrreurxerro'rexunxrxrm m?urxrrCmrwrrrmouoamxxmxrxlrtr ;rr\n",
      "mr rwumrretrrr;rwirxxrrrre xrrrrrmeruxurrxau-mreu;utr rre.rxrrr:xul: rrerobrweurrrnrrrr,rrrrl mrrx mormurrrxrorsrrrrwtlwl,ro,rufxxmmrwrrmr rxxudxmrrxor:xururrotpl\n",
      "rurrrrr-xrr lrr.rrrrnwruooarrrbrrmr?rrrouorr-rrrrrerrxerr;iorrrrurrrmroxrrr?rrrrurrr o:rrrrorworr romx\n"
     ]
    }
   ],
   "source": [
    "#temperature = 1.5\n",
    "print(generate_text(model, prompt=u\"RITHEESH GURURI: \", length = 1000, temp=1.5))\n",
    "print('\\n')\n",
    "print('\\n')\n",
    "print('\\n')\n",
    "print('\\n')\n",
    "print('\\n')\n",
    "print(generate_text2(model2, prompt2=u\"world\", length2 = 1000, temp2=1.5))"
   ]
  }
 ],
 "metadata": {
  "accelerator": "GPU",
  "colab": {
   "gpuType": "T4",
   "provenance": []
  },
  "kernelspec": {
   "display_name": "Python 3",
   "name": "python3"
  },
  "language_info": {
   "codemirror_mode": {
    "name": "ipython",
    "version": 3
   },
   "file_extension": ".py",
   "mimetype": "text/x-python",
   "name": "python",
   "nbconvert_exporter": "python",
   "pygments_lexer": "ipython3",
   "version": "3.7.6"
  }
 },
 "nbformat": 4,
 "nbformat_minor": 0
}
